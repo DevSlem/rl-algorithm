{
 "cells": [
  {
   "cell_type": "markdown",
   "metadata": {},
   "source": [
    "# CartPole with Deep Sarsa\n",
    "\n",
    "Environment: [CartPole-v0](https://github.com/openai/gym/wiki/CartPole-v0)\n",
    "\n",
    "![](https://www.gymlibrary.ml/_images/cart_pole.gif)"
   ]
  },
  {
   "cell_type": "markdown",
   "metadata": {},
   "source": [
    "## Source Codes"
   ]
  },
  {
   "cell_type": "markdown",
   "metadata": {},
   "source": [
    "### Library\n",
    "\n",
    "DRL agent:\n",
    "* [Deep Sarsa](../rl/drl_agent/deep_sarsa.py)"
   ]
  },
  {
   "cell_type": "markdown",
   "metadata": {},
   "source": [
    "### Import modules"
   ]
  },
  {
   "cell_type": "code",
   "execution_count": 10,
   "metadata": {},
   "outputs": [],
   "source": [
    "import sys\n",
    "import os\n",
    "sys.path.append(os.pardir)\n",
    "\n",
    "import torch\n",
    "import torch.optim as optim\n",
    "import torch.nn as nn\n",
    "import numpy as np\n",
    "import gym\n",
    "import rl\n",
    "\n",
    "rl.util.seed(0)"
   ]
  },
  {
   "cell_type": "markdown",
   "metadata": {},
   "source": [
    "### Define Q value network"
   ]
  },
  {
   "cell_type": "code",
   "execution_count": 11,
   "metadata": {},
   "outputs": [],
   "source": [
    "class QValueNet(nn.Module):\n",
    "    def __init__(self, in_dim, out_dim):\n",
    "        super(QValueNet, self).__init__()\n",
    "        \n",
    "        self.layers = nn.Sequential(\n",
    "            nn.Linear(in_dim, 64),\n",
    "            nn.ReLU(),\n",
    "            nn.Linear(64, out_dim)\n",
    "        )\n",
    "        \n",
    "    def forward(self, x):\n",
    "        q_val = self.layers(x)\n",
    "        return q_val"
   ]
  },
  {
   "cell_type": "markdown",
   "metadata": {},
   "source": [
    "### Create CartPole-v0 environment"
   ]
  },
  {
   "cell_type": "code",
   "execution_count": 12,
   "metadata": {},
   "outputs": [
    {
     "name": "stderr",
     "output_type": "stream",
     "text": [
      "c:\\Anaconda3\\envs\\rl-algorithm\\lib\\site-packages\\gym\\envs\\registration.py:593: UserWarning: \u001b[33mWARN: The environment CartPole-v0 is out of date. You should consider upgrading to version `v1`.\u001b[0m\n",
      "  f\"The environment {id} is out of date. You should consider \"\n"
     ]
    }
   ],
   "source": [
    "try:\n",
    "    env.close()\n",
    "except:\n",
    "    pass\n",
    "\n",
    "env = gym.make(\"CartPole-v0\", new_step_api=True)"
   ]
  },
  {
   "cell_type": "code",
   "execution_count": 13,
   "metadata": {},
   "outputs": [
    {
     "name": "stdout",
     "output_type": "stream",
     "text": [
      "obs_shape: 4, action_count: 2\n"
     ]
    }
   ],
   "source": [
    "obs_shape = env.observation_space.shape[0]\n",
    "action_count = env.action_space.n\n",
    "\n",
    "print(f\"obs_shape: {obs_shape}, action_count: {action_count}\")"
   ]
  },
  {
   "cell_type": "markdown",
   "metadata": {},
   "source": [
    "### Instantiate Deep Sarsa agent"
   ]
  },
  {
   "cell_type": "code",
   "execution_count": 14,
   "metadata": {},
   "outputs": [],
   "source": [
    "learning_rate = 0.01\n",
    "q_value_net = QValueNet(obs_shape, action_count)\n",
    "optimizer = optim.Adam(q_value_net.parameters(), lr=learning_rate)"
   ]
  },
  {
   "cell_type": "code",
   "execution_count": 15,
   "metadata": {},
   "outputs": [],
   "source": [
    "gamma = 0.99\n",
    "max_training_step = 40000\n",
    "\n",
    "deep_sarsa = rl.DeepSarsa(\n",
    "    q_value_net,\n",
    "    optimizer,\n",
    "    action_count,\n",
    "    epsilon_decay=rl.util.LinearDecay(0.3, 0.05, max_training_step),\n",
    "    gamma=gamma\n",
    ")"
   ]
  },
  {
   "cell_type": "markdown",
   "metadata": {},
   "source": [
    "### Training"
   ]
  },
  {
   "cell_type": "code",
   "execution_count": 16,
   "metadata": {},
   "outputs": [
    {
     "name": "stderr",
     "output_type": "stream",
     "text": [
      "100%|██████████| 40000/40000 [02:15<00:00, 295.06it/s]\n"
     ]
    }
   ],
   "source": [
    "from tqdm import tqdm\n",
    "\n",
    "max_time_step = 200\n",
    "rewards_arr = []\n",
    "\n",
    "with tqdm(total=max_training_step) as pbar:\n",
    "    step = 0\n",
    "    while step < max_training_step:        \n",
    "        current_state = env.reset(seed=0)\n",
    "        deep_sarsa.start_episode()\n",
    "        total_rewards = 0.0\n",
    "        \n",
    "        for t in range(max_time_step):\n",
    "            pbar.update(deep_sarsa.step - step)\n",
    "            step = deep_sarsa.step\n",
    "            \n",
    "            current_action = deep_sarsa.get_action(current_state[np.newaxis, :])\n",
    "            current_action = np.squeeze(current_action, 0)\n",
    "            next_state, reward, terminated, _, _ = env.step(current_action)\n",
    "            transition = rl.Transition(\n",
    "                current_state,\n",
    "                current_action,\n",
    "                next_state,\n",
    "                reward,\n",
    "                terminated\n",
    "            )\n",
    "            deep_sarsa.update(transition)\n",
    "            total_rewards += reward\n",
    "            #env.render()\n",
    "            if terminated or deep_sarsa.step >= max_training_step:\n",
    "                break\n",
    "            current_state = next_state\n",
    "            \n",
    "        deep_sarsa.end_episode()\n",
    "        rewards_arr.append(total_rewards)"
   ]
  },
  {
   "cell_type": "markdown",
   "metadata": {},
   "source": [
    "### Close the environment"
   ]
  },
  {
   "cell_type": "code",
   "execution_count": 17,
   "metadata": {},
   "outputs": [],
   "source": [
    "env.close()"
   ]
  },
  {
   "cell_type": "markdown",
   "metadata": {},
   "source": [
    "### Print results"
   ]
  },
  {
   "cell_type": "code",
   "execution_count": 18,
   "metadata": {},
   "outputs": [
    {
     "name": "stdout",
     "output_type": "stream",
     "text": [
      "rewards\n"
     ]
    },
    {
     "data": {
      "image/png": "[encoded data removed]",
      "text/plain": [
       "<Figure size 432x288 with 1 Axes>"
      ]
     },
     "metadata": {
      "needs_background": "light"
     },
     "output_type": "display_data"
    },
    {
     "name": "stdout",
     "output_type": "stream",
     "text": [
      "average rewards of last 100 rewards\n"
     ]
    },
    {
     "data": {
      "image/png": "[encoded data removed]",
      "text/plain": [
       "<Figure size 432x288 with 1 Axes>"
      ]
     },
     "metadata": {
      "needs_background": "light"
     },
     "output_type": "display_data"
    }
   ],
   "source": [
    "import matplotlib.pyplot as plt\n",
    "\n",
    "def solved(rewards):\n",
    "    solved_rewards = 195\n",
    "    rewards = np.array(rewards)\n",
    "    solved_pred = rewards >= solved_rewards\n",
    "    solved_x = np.arange(len(rewards))[solved_pred]\n",
    "    solved_y = rewards[solved_pred]\n",
    "    return solved_x, solved_y\n",
    "\n",
    "def plot_rewards(rewards):\n",
    "    solved_x, solved_y = solved(rewards)\n",
    "    plt.plot(rewards, label=\"reward\")\n",
    "    plt.scatter(solved_x, solved_y, c=\"red\", label=\"solved\")\n",
    "    plt.legend()\n",
    "    plt.grid()\n",
    "    plt.show()\n",
    "\n",
    "print(\"rewards\")\n",
    "plot_rewards(rewards_arr)\n",
    "\n",
    "print(\"average rewards of last 100 rewards\")\n",
    "rewards_arr = rl.util.average_last_data(rewards_arr, 100)\n",
    "plot_rewards(rewards_arr)"
   ]
  }
 ],
 "metadata": {
  "kernelspec": {
   "display_name": "Python 3.7.13 ('rl-algorithm')",
   "language": "python",
   "name": "python3"
  },
  "language_info": {
   "codemirror_mode": {
    "name": "ipython",
    "version": 3
   },
   "file_extension": ".py",
   "mimetype": "text/x-python",
   "name": "python",
   "nbconvert_exporter": "python",
   "pygments_lexer": "ipython3",
   "version": "3.7.13"
  },
  "orig_nbformat": 4,
  "vscode": {
   "interpreter": {
    "hash": "0381d0af411f6bfe45ac40b0d1966757aef498b18b285452598df2aadb4e7a1e"
   }
  }
 },
 "nbformat": 4,
 "nbformat_minor": 2
}
