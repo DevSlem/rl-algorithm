{
 "cells": [
  {
   "cell_type": "markdown",
   "metadata": {},
   "source": [
    "# Reinforcement Learning: An Introduction 2nd Edition - Example 6.6\n",
    "\n",
    "Environment: [Example 6.6: Cliff Walking](http://incompleteideas.net/book/bookdraft2017nov5.pdf#page=126)"
   ]
  },
  {
   "cell_type": "markdown",
   "metadata": {},
   "source": [
    "## Environment Settings\n",
    "\n",
    "I use same settings of the environment.\n",
    "\n",
    "Observation:\n",
    "* $4 \\times 12$ grid\n",
    "* cliff - 3 row 1 to 10 columns \n",
    "\n",
    "Actions:\n",
    "* up  \n",
    "* down  \n",
    "* left  \n",
    "* right  \n",
    "\n",
    "Hyperparameters:\n",
    "* $\\epsilon = 0.1$  \n",
    "* $\\alpha = 0.5$  \n",
    "* $\\gamma = 1$  \n",
    "* 500 episodes"
   ]
  },
  {
   "cell_type": "markdown",
   "metadata": {},
   "source": [
    "## Source Codes"
   ]
  },
  {
   "cell_type": "code",
   "execution_count": 198,
   "metadata": {},
   "outputs": [],
   "source": [
    "import sys\n",
    "import os\n",
    "sys.path.append(os.pardir)\n",
    "\n",
    "import numpy as np\n",
    "from rl import QLearning, Sarsa, Transition\n",
    "from rl.environment import CliffWalking\n",
    "import matplotlib.pyplot as plt"
   ]
  },
  {
   "cell_type": "markdown",
   "metadata": {},
   "source": [
    "### Define test function"
   ]
  },
  {
   "cell_type": "code",
   "execution_count": 199,
   "metadata": {},
   "outputs": [],
   "source": [
    "def test_env(env: CliffWalking, q_learnig: QLearning, sarsa: Sarsa):\n",
    "    shape_x, shape_y = env.obs_shape\n",
    "    \n",
    "    start_state = env.reset()\n",
    "    goal_state = env.goal_state\n",
    "    \n",
    "    current_state = start_state\n",
    "    q_learning_trace_states = [current_state]\n",
    "    q_learning_total_rewards = 0\n",
    "    \n",
    "    # start an episode with q-learning\n",
    "    for i in range(1000):\n",
    "        current_action = q_learnig.get_action(current_state)\n",
    "        next_state, reward, terminated = env.step(current_action)\n",
    "        q_learning_trace_states.append(next_state)\n",
    "        q_learning_total_rewards += reward\n",
    "        \n",
    "        if terminated:\n",
    "            break\n",
    "        \n",
    "        current_state = next_state\n",
    "        \n",
    "\n",
    "    current_state = env.reset()\n",
    "    sarsa_trace_states = [current_state]\n",
    "    sarsa_total_rewards = 0\n",
    "    \n",
    "    # start an episode with sarsa\n",
    "    for i in range(1000):\n",
    "        current_action = sarsa.get_action(current_state)\n",
    "        next_state, reward, terminated = env.step(current_action)\n",
    "        sarsa_trace_states.append(next_state)\n",
    "        sarsa_total_rewards += reward\n",
    "        \n",
    "        if terminated:\n",
    "            break\n",
    "        \n",
    "        current_state = next_state\n",
    "    \n",
    "    print(f\"sarsa: {sarsa_total_rewards}, q-learning: {q_learning_total_rewards}\")\n",
    "    \n",
    "    q_learning_trace_states = np.array(q_learning_trace_states)\n",
    "    sarsa_trace_states = np.array(sarsa_trace_states)\n",
    "    cliff = np.transpose(np.where(env.cliff_area))\n",
    "    \n",
    "    # draw grid world\n",
    "    plt.plot(sarsa_trace_states[:,1], sarsa_trace_states[:,0])\n",
    "    plt.plot(q_learning_trace_states[:,1], q_learning_trace_states[:,0], \"violet\")\n",
    "    plt.plot(cliff[:,1], cliff[:,0], \"r\")\n",
    "    plt.scatter(start_state[1], start_state[0], c=\"red\", marker=\"x\")\n",
    "    plt.scatter(goal_state[1], goal_state[0], c=\"black\", marker=\"x\")\n",
    "    plt.axis([-1, shape_y, -1, shape_x])\n",
    "    plt.xticks(range(-1, shape_y + 1))\n",
    "    plt.yticks(range(-1, shape_x + 1))\n",
    "    plt.grid()\n",
    "    plt.tick_params(labelbottom=False, bottom=False, top=True, labeltop=True)\n",
    "    plt.gca().invert_yaxis()\n",
    "    plt.show()"
   ]
  },
  {
   "cell_type": "markdown",
   "metadata": {},
   "source": [
    "### Before training\n",
    "\n",
    "* red: cliff area\n",
    "* blue: sarsa\n",
    "* violet: q-learning\n",
    "* red x dot: start state\n",
    "* black x dot: goal state"
   ]
  },
  {
   "cell_type": "code",
   "execution_count": 200,
   "metadata": {},
   "outputs": [],
   "source": [
    "env = CliffWalking()\n",
    "\n",
    "cliff_walking_sarsa = Sarsa(env.obs_shape, env.action_count, [env.goal_state])\n",
    "cliff_walking_q_learning = QLearning(env.obs_shape, env.action_count, [env.goal_state])"
   ]
  },
  {
   "cell_type": "code",
   "execution_count": 201,
   "metadata": {},
   "outputs": [
    {
     "name": "stdout",
     "output_type": "stream",
     "text": [
      "sarsa: -1000.0, q-learning: -1000.0\n"
     ]
    },
    {
     "data": {
      "image/png": "[encoded data removed]",
      "text/plain": [
       "<Figure size 432x288 with 1 Axes>"
      ]
     },
     "metadata": {
      "needs_background": "light"
     },
     "output_type": "display_data"
    }
   ],
   "source": [
    "test_env(env, cliff_walking_q_learning, cliff_walking_sarsa)"
   ]
  },
  {
   "cell_type": "markdown",
   "metadata": {},
   "source": [
    "### Training"
   ]
  },
  {
   "cell_type": "code",
   "execution_count": 202,
   "metadata": {},
   "outputs": [],
   "source": [
    "def train(env: CliffWalking, algorithm):\n",
    "    gamma = 1\n",
    "    alpha = 0.5\n",
    "    episodes_count = 500\n",
    "    rewards_arr = []\n",
    "    \n",
    "    for episode in range(episodes_count):\n",
    "        current_state = env.reset()\n",
    "        terminated = False\n",
    "        total_rewards = 0\n",
    "        \n",
    "        while not terminated:\n",
    "            current_action = algorithm.get_action(current_state)\n",
    "            next_state, reward, terminated = env.step(current_action)\n",
    "            \n",
    "            if isinstance(algorithm, QLearning):\n",
    "                transition = Transition(\n",
    "                    current_state,\n",
    "                    current_action,\n",
    "                    next_state,\n",
    "                    reward\n",
    "                )\n",
    "                \n",
    "                algorithm.update(transition, alpha=alpha, gamma=gamma)\n",
    "            elif isinstance(algorithm, Sarsa):\n",
    "                transition = Transition(\n",
    "                    current_state,\n",
    "                    current_action,\n",
    "                    next_state,\n",
    "                    reward\n",
    "                )\n",
    "                \n",
    "                algorithm.update(transition, alpha=alpha, gamma=gamma)\n",
    "            else:\n",
    "                return None\n",
    "            \n",
    "            current_state = next_state\n",
    "            total_rewards += reward\n",
    "            \n",
    "        rewards_arr.append(total_rewards)\n",
    "        \n",
    "    return rewards_arr"
   ]
  },
  {
   "cell_type": "code",
   "execution_count": 203,
   "metadata": {},
   "outputs": [],
   "source": [
    "def averages_until_now(data):\n",
    "    data = np.array(data)\n",
    "    averages = []\n",
    "    for i in range(len(data)):\n",
    "        averages.append(np.mean(data[0:i + 1]))\n",
    "        \n",
    "    return averages"
   ]
  },
  {
   "cell_type": "code",
   "execution_count": 204,
   "metadata": {},
   "outputs": [
    {
     "data": {
      "image/png": "[encoded data removed]",
      "text/plain": [
       "<Figure size 432x288 with 1 Axes>"
      ]
     },
     "metadata": {
      "needs_background": "light"
     },
     "output_type": "display_data"
    },
    {
     "name": "stdout",
     "output_type": "stream",
     "text": [
      "sarsa: -16.0, q-learning: -12.0\n"
     ]
    },
    {
     "data": {
      "image/png": "[encoded data removed]",
      "text/plain": [
       "<Figure size 432x288 with 1 Axes>"
      ]
     },
     "metadata": {
      "needs_background": "light"
     },
     "output_type": "display_data"
    }
   ],
   "source": [
    "q_learning_rewards = train(env, cliff_walking_q_learning)\n",
    "sarsa_rewards = train(env, cliff_walking_sarsa)\n",
    "\n",
    "# training rewards graph\n",
    "plt.plot(averages_until_now(sarsa_rewards))\n",
    "plt.plot(averages_until_now(q_learning_rewards), \"violet\")\n",
    "plt.axis([0, 500, -100, 0])\n",
    "plt.show()\n",
    "\n",
    "# greedy policy\n",
    "cliff_walking_q_learning.epsilon = 0\n",
    "cliff_walking_sarsa.epsilon = 0\n",
    "test_env(env, cliff_walking_q_learning, cliff_walking_sarsa)"
   ]
  }
 ],
 "metadata": {
  "kernelspec": {
   "display_name": "Python 3.7.13 ('ml-agents-release19')",
   "language": "python",
   "name": "python3"
  },
  "language_info": {
   "codemirror_mode": {
    "name": "ipython",
    "version": 3
   },
   "file_extension": ".py",
   "mimetype": "text/x-python",
   "name": "python",
   "nbconvert_exporter": "python",
   "pygments_lexer": "ipython3",
   "version": "3.7.13"
  },
  "orig_nbformat": 4,
  "vscode": {
   "interpreter": {
    "hash": "27eb139b8c4ace6cccc6a8baf9472fbc25ad43a5e88c55378a6d95258c07d954"
   }
  }
 },
 "nbformat": 4,
 "nbformat_minor": 2
}
