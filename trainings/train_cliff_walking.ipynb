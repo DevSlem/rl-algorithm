{
 "cells": [
  {
   "cell_type": "markdown",
   "metadata": {},
   "source": [
    "# Reinforcement Learning: An Introduction 2nd Edition - Example 6.6\n",
    "\n",
    "Environment: [Example 6.6: Cliff Walking](http://incompleteideas.net/book/bookdraft2017nov5.pdf#page=126)"
   ]
  },
  {
   "cell_type": "markdown",
   "metadata": {},
   "source": [
    "## Environment Settings\n",
    "\n",
    "I use same settings of the environment.\n",
    "\n",
    "Observation:\n",
    "* $4 \\times 12$ grid\n",
    "* cliff - 3 row 1 to 10 columns \n",
    "\n",
    "Actions:\n",
    "* up  \n",
    "* down  \n",
    "* left  \n",
    "* right  \n",
    "\n",
    "Hyperparameters:\n",
    "* $\\epsilon = 0.1$  \n",
    "* $\\alpha = 0.5$  \n",
    "* $\\gamma = 1$  \n",
    "* 500 episodes\n",
    "\n",
    "Numpy Random Seed: 0"
   ]
  },
  {
   "cell_type": "markdown",
   "metadata": {},
   "source": [
    "## Source Codes"
   ]
  },
  {
   "cell_type": "markdown",
   "metadata": {},
   "source": [
    "### Library\n",
    "\n",
    "RL agents:\n",
    "* [Q-learning](../rl/rl_agent/q_learning.py)\n",
    "* [Sarsa](../rl/rl_agent/sarsa.py)\n",
    "\n",
    "Environment:\n",
    "* [Cliff Walking](../rl/environment/cliff_walking.py)"
   ]
  },
  {
   "cell_type": "markdown",
   "metadata": {},
   "source": [
    "### Import modules"
   ]
  },
  {
   "cell_type": "code",
   "execution_count": 1,
   "metadata": {},
   "outputs": [],
   "source": [
    "import sys\n",
    "import os\n",
    "sys.path.append(os.pardir)\n",
    "\n",
    "import numpy as np\n",
    "import rl\n",
    "from rl.environment import CliffWalking\n",
    "import matplotlib.pyplot as plt\n",
    "\n",
    "rl.util.seed(0)"
   ]
  },
  {
   "cell_type": "markdown",
   "metadata": {},
   "source": [
    "### Define test function"
   ]
  },
  {
   "cell_type": "code",
   "execution_count": 2,
   "metadata": {},
   "outputs": [],
   "source": [
    "def test_env(env: CliffWalking, sarsa: rl.Sarsa, q_learnig: rl.QLearning):\n",
    "    shape_x, shape_y = env.obs_shape\n",
    "    \n",
    "    start_state = env.reset()\n",
    "    goal_state = env.goal_state\n",
    "    \n",
    "    current_state = start_state\n",
    "    q_learning_trace_states = [current_state]\n",
    "    q_learning_total_rewards = 0\n",
    "    \n",
    "    # start an episode with q-learning\n",
    "    for i in range(1000):\n",
    "        current_action = q_learnig.get_action(tuple(current_state))\n",
    "        next_state, reward, terminated = env.step(current_action)\n",
    "        q_learning_trace_states.append(next_state)\n",
    "        q_learning_total_rewards += reward\n",
    "        \n",
    "        if terminated:\n",
    "            break\n",
    "        \n",
    "        current_state = next_state\n",
    "        \n",
    "\n",
    "    current_state = env.reset()\n",
    "    sarsa_trace_states = [current_state]\n",
    "    sarsa_total_rewards = 0\n",
    "    \n",
    "    # start an episode with sarsa\n",
    "    for i in range(1000):\n",
    "        current_action = sarsa.get_action(tuple(current_state))\n",
    "        next_state, reward, terminated = env.step(current_action)\n",
    "        sarsa_trace_states.append(next_state)\n",
    "        sarsa_total_rewards += reward\n",
    "        \n",
    "        if terminated:\n",
    "            break\n",
    "        \n",
    "        current_state = next_state\n",
    "    \n",
    "    print(f\"sarsa: {sarsa_total_rewards}, q-learning: {q_learning_total_rewards}\")\n",
    "    \n",
    "    q_learning_trace_states = np.array(q_learning_trace_states)\n",
    "    sarsa_trace_states = np.array(sarsa_trace_states)\n",
    "    cliff = np.transpose(np.where(env.cliff_area))\n",
    "    \n",
    "    # draw grid world\n",
    "    plt.plot(sarsa_trace_states[:,1], sarsa_trace_states[:,0], linestyle=\"--\", label=\"Sarsa\")\n",
    "    plt.plot(q_learning_trace_states[:,1], q_learning_trace_states[:,0], \"violet\", linestyle=\"--\", label=\"Q-learning\")\n",
    "    plt.plot(cliff[:,1], cliff[:,0], \"r\", label=\"Cliff Area\")\n",
    "    plt.scatter(start_state[1], start_state[0], c=\"red\", marker=\"x\", label=\"Start\")\n",
    "    plt.scatter(goal_state[1], goal_state[0], c=\"black\", marker=\"x\", label=\"Goal\")\n",
    "    plt.axis([-1, shape_y, -1, shape_x])\n",
    "    plt.xticks(range(-1, shape_y + 1))\n",
    "    plt.yticks(range(-1, shape_x + 1))\n",
    "    plt.grid()\n",
    "    plt.tick_params(labelbottom=False, bottom=False, top=True, labeltop=True)\n",
    "    plt.gca().invert_yaxis()\n",
    "    plt.legend()\n",
    "    plt.show()"
   ]
  },
  {
   "cell_type": "markdown",
   "metadata": {},
   "source": [
    "### Create Cliff Walking environment"
   ]
  },
  {
   "cell_type": "code",
   "execution_count": 3,
   "metadata": {},
   "outputs": [],
   "source": [
    "env = CliffWalking()"
   ]
  },
  {
   "cell_type": "markdown",
   "metadata": {},
   "source": [
    "### Instantiate RL agents"
   ]
  },
  {
   "cell_type": "code",
   "execution_count": 4,
   "metadata": {},
   "outputs": [],
   "source": [
    "# Hyperparameters\n",
    "gamma = 1\n",
    "alpha = 0.5\n",
    "epsilon = 0.1\n",
    "\n",
    "sarsa = rl.Sarsa(\n",
    "    env.obs_shape,\n",
    "    env.action_count,\n",
    "    terminal_states=[tuple(env.goal_state)],\n",
    "    alpha=alpha,\n",
    "    gamma=gamma,\n",
    "    epsilon=epsilon\n",
    ")\n",
    "\n",
    "q_learning = rl.QLearning(\n",
    "    env.obs_shape,\n",
    "    env.action_count,\n",
    "    terminal_states=[tuple(env.goal_state)],\n",
    "    alpha=alpha,\n",
    "    gamma=gamma,\n",
    "    epsilon=epsilon\n",
    ")"
   ]
  },
  {
   "cell_type": "markdown",
   "metadata": {},
   "source": [
    "### Test the environment"
   ]
  },
  {
   "cell_type": "code",
   "execution_count": 5,
   "metadata": {},
   "outputs": [
    {
     "name": "stdout",
     "output_type": "stream",
     "text": [
      "sarsa: -1000.0, q-learning: -1000.0\n"
     ]
    },
    {
     "data": {
      "image/png": "[encoded data removed]",
      "text/plain": [
       "<Figure size 432x288 with 1 Axes>"
      ]
     },
     "metadata": {
      "needs_background": "light"
     },
     "output_type": "display_data"
    }
   ],
   "source": [
    "test_env(env, sarsa, q_learning)"
   ]
  },
  {
   "cell_type": "markdown",
   "metadata": {},
   "source": [
    "### Training"
   ]
  },
  {
   "cell_type": "code",
   "execution_count": 6,
   "metadata": {},
   "outputs": [],
   "source": [
    "def train_cliff_walking(env: CliffWalking, agent: rl.Agent):\n",
    "    episodes_count = 500\n",
    "    rewards_arr = []\n",
    "    \n",
    "    for episode in range(episodes_count):\n",
    "        agent.start_episode()\n",
    "        current_state = env.reset()\n",
    "        terminated = False\n",
    "        total_rewards = 0\n",
    "        \n",
    "        # start an episode\n",
    "        while not terminated:\n",
    "            current_action = int(agent.get_action(tuple(current_state)))\n",
    "            # take action a; observe r, s'\n",
    "            next_state, reward, terminated = env.step(current_action)\n",
    "            transition = rl.Transition(\n",
    "                current_state,\n",
    "                current_action,\n",
    "                next_state,\n",
    "                reward,\n",
    "                terminated\n",
    "            )\n",
    "            # update the agent\n",
    "            agent.update(transition)\n",
    "            \n",
    "            current_state = next_state\n",
    "            total_rewards += reward\n",
    "            \n",
    "        agent.end_episode()\n",
    "        rewards_arr.append(total_rewards)\n",
    "        \n",
    "    return rewards_arr"
   ]
  },
  {
   "cell_type": "markdown",
   "metadata": {},
   "source": [
    "### Print results"
   ]
  },
  {
   "cell_type": "code",
   "execution_count": 7,
   "metadata": {},
   "outputs": [
    {
     "name": "stdout",
     "output_type": "stream",
     "text": [
      "sarsa: -16.0, q-learning: -12.0\n"
     ]
    },
    {
     "data": {
      "image/png": "[encoded data removed]",
      "text/plain": [
       "<Figure size 432x288 with 1 Axes>"
      ]
     },
     "metadata": {
      "needs_background": "light"
     },
     "output_type": "display_data"
    },
    {
     "name": "stdout",
     "output_type": "stream",
     "text": [
      "average rewards of last 50 rewards\n"
     ]
    },
    {
     "data": {
      "image/png": "[encoded data removed]",
      "text/plain": [
       "<Figure size 432x288 with 1 Axes>"
      ]
     },
     "metadata": {
      "needs_background": "light"
     },
     "output_type": "display_data"
    }
   ],
   "source": [
    "sarsa_rewards = train_cliff_walking(env, sarsa)\n",
    "q_learning_rewards = train_cliff_walking(env, q_learning)\n",
    "\n",
    "# greedy policy for test\n",
    "q_learning.epsilon = 0\n",
    "sarsa.epsilon = 0\n",
    "test_env(env, sarsa, q_learning)\n",
    "\n",
    "# training rewards graph\n",
    "print(\"average rewards of last 50 rewards\")\n",
    "plt.plot(rl.util.average_last_data(sarsa_rewards, 50), label=\"Sarsa\")\n",
    "plt.plot(rl.util.average_last_data(q_learning_rewards, 50), \"violet\", label=\"Q-learning\")\n",
    "plt.axis([0, 500, -100, 0])\n",
    "plt.legend()\n",
    "plt.grid()\n",
    "plt.show()"
   ]
  }
 ],
 "metadata": {
  "kernelspec": {
   "display_name": "Python 3.7.13 ('rl-algorithm')",
   "language": "python",
   "name": "python3"
  },
  "language_info": {
   "codemirror_mode": {
    "name": "ipython",
    "version": 3
   },
   "file_extension": ".py",
   "mimetype": "text/x-python",
   "name": "python",
   "nbconvert_exporter": "python",
   "pygments_lexer": "ipython3",
   "version": "3.7.13"
  },
  "orig_nbformat": 4,
  "vscode": {
   "interpreter": {
    "hash": "0381d0af411f6bfe45ac40b0d1966757aef498b18b285452598df2aadb4e7a1e"
   }
  }
 },
 "nbformat": 4,
 "nbformat_minor": 2
}
