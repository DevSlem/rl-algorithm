{
 "cells": [
  {
   "cell_type": "markdown",
   "metadata": {},
   "source": [
    "# Reinforcement Learning: An Introduction 2nd Edition - Example 6.5\n",
    "\n",
    "Environment: [Example 6.5: Windy Gridworld](http://incompleteideas.net/book/bookdraft2017nov5.pdf#page=124)"
   ]
  },
  {
   "cell_type": "markdown",
   "metadata": {},
   "source": [
    "## Source Codes\n",
    "\n",
    "* [Sarsa](../rl/rl_algorithm/sarsa.py)\n",
    "* [Windy Gridworld](../rl/environment/windy_gridworld.py)"
   ]
  },
  {
   "cell_type": "markdown",
   "metadata": {},
   "source": [
    "## Environment Settings\n",
    "\n",
    "I use same settings of the environment.\n",
    "\n",
    "Observation:\n",
    "* $7 \\times 10$ grid\n",
    "* 3 to 5, 8 columns - upward wind power 1\n",
    "* 6 to 7 columns - upward wind power 2\n",
    "\n",
    "Actions:\n",
    "* up  \n",
    "* down  \n",
    "* left  \n",
    "* right  \n",
    "\n",
    "Hyperparameters:\n",
    "* $\\epsilon = 0.1$  \n",
    "* $\\alpha = 0.5$  \n",
    "* $\\gamma = 1$  \n",
    "* 8000 episodes"
   ]
  },
  {
   "cell_type": "markdown",
   "metadata": {},
   "source": [
    "## Source Codes"
   ]
  },
  {
   "cell_type": "code",
   "execution_count": 7,
   "metadata": {},
   "outputs": [],
   "source": [
    "import sys\n",
    "import os\n",
    "sys.path.append(os.pardir)\n",
    "\n",
    "import rl\n",
    "from rl.environment import WindyGridworld\n",
    "import numpy as np\n",
    "import matplotlib.pyplot as plt"
   ]
  },
  {
   "cell_type": "markdown",
   "metadata": {},
   "source": [
    "### Define test function"
   ]
  },
  {
   "cell_type": "code",
   "execution_count": 8,
   "metadata": {},
   "outputs": [],
   "source": [
    "def test_env(env: WindyGridworld, sarsa: rl.Sarsa):\n",
    "    shape_x, shape_y = env.obs_shape\n",
    "    \n",
    "    start_state = env.reset()\n",
    "    goal_state = env.goal_state\n",
    "    current_state = start_state\n",
    "    \n",
    "    trace_states = [current_state]\n",
    "    total_rewards = 0\n",
    "    \n",
    "    # start an episode\n",
    "    for i in range(1000):\n",
    "        current_action = sarsa.get_action(tuple(current_state))\n",
    "        next_state, reward, terminated = env.step(current_action)\n",
    "        trace_states.append(next_state)\n",
    "        total_rewards += reward\n",
    "        \n",
    "        if terminated:\n",
    "            break\n",
    "        \n",
    "        current_state = next_state\n",
    "        \n",
    "    print(f\"total rewards: {total_rewards}\")\n",
    "    \n",
    "    trace_states = np.array(trace_states)\n",
    "    \n",
    "    # draw grid world\n",
    "    plt.plot(trace_states[:,1], trace_states[:,0])\n",
    "    plt.scatter(start_state[1], start_state[0], c=\"red\", marker=\"x\")\n",
    "    plt.scatter(goal_state[1], goal_state[0], c=\"black\", marker=\"x\")\n",
    "    plt.axis([-1, shape_y, -1, shape_x])\n",
    "    plt.xticks(range(-1, shape_y + 1))\n",
    "    plt.yticks(range(-1, shape_x + 1))\n",
    "    plt.grid()\n",
    "    plt.gca().invert_yaxis()\n",
    "    plt.show()"
   ]
  },
  {
   "cell_type": "markdown",
   "metadata": {},
   "source": [
    "### Before training"
   ]
  },
  {
   "cell_type": "code",
   "execution_count": 9,
   "metadata": {},
   "outputs": [],
   "source": [
    "# hyperparameters\n",
    "alpha = 0.5\n",
    "gamma = 1\n",
    "\n",
    "env = WindyGridworld()\n",
    "windy_gridworld_sarsa = rl.Sarsa(env.obs_shape, \n",
    "                                 env.action_count, \n",
    "                                 [tuple(env.goal_state)], \n",
    "                                 alpha=alpha,\n",
    "                                 gamma=gamma)"
   ]
  },
  {
   "cell_type": "code",
   "execution_count": 10,
   "metadata": {},
   "outputs": [
    {
     "name": "stdout",
     "output_type": "stream",
     "text": [
      "obs shape: (7, 10), start state: [3 0], goal state: [3 7]\n",
      "total rewards: -1000\n"
     ]
    },
    {
     "data": {
      "image/png": "[encoded data removed]",
      "text/plain": [
       "<Figure size 432x288 with 1 Axes>"
      ]
     },
     "metadata": {
      "needs_background": "light"
     },
     "output_type": "display_data"
    }
   ],
   "source": [
    "print(f\"obs shape: {env.obs_shape}, start state: {env.state}, goal state: {env.goal_state}\")\n",
    "\n",
    "test_env(env, windy_gridworld_sarsa)"
   ]
  },
  {
   "cell_type": "markdown",
   "metadata": {},
   "source": [
    "### Training"
   ]
  },
  {
   "cell_type": "code",
   "execution_count": 12,
   "metadata": {},
   "outputs": [
    {
     "name": "stdout",
     "output_type": "stream",
     "text": [
      "total rewards: -1000\n"
     ]
    },
    {
     "data": {
      "image/png": "[encoded data removed]",
      "text/plain": [
       "<Figure size 432x288 with 1 Axes>"
      ]
     },
     "metadata": {
      "needs_background": "light"
     },
     "output_type": "display_data"
    },
    {
     "name": "stdout",
     "output_type": "stream",
     "text": [
      "total rewards: -17\n"
     ]
    },
    {
     "data": {
      "image/png": "[encoded data removed]",
      "text/plain": [
       "<Figure size 432x288 with 1 Axes>"
      ]
     },
     "metadata": {
      "needs_background": "light"
     },
     "output_type": "display_data"
    },
    {
     "name": "stdout",
     "output_type": "stream",
     "text": [
      "total rewards: -14\n"
     ]
    },
    {
     "data": {
      "image/png": "[encoded data removed]",
      "text/plain": [
       "<Figure size 432x288 with 1 Axes>"
      ]
     },
     "metadata": {
      "needs_background": "light"
     },
     "output_type": "display_data"
    },
    {
     "name": "stdout",
     "output_type": "stream",
     "text": [
      "total rewards graph\n"
     ]
    },
    {
     "data": {
      "image/png": "[encoded data removed]",
      "text/plain": [
       "<Figure size 432x288 with 1 Axes>"
      ]
     },
     "metadata": {
      "needs_background": "light"
     },
     "output_type": "display_data"
    }
   ],
   "source": [
    "episodes_count = 8000\n",
    "\n",
    "# records\n",
    "rewards_arr = []\n",
    "\n",
    "for episode in range(episodes_count):\n",
    "    current_state = env.reset()\n",
    "    current_action = windy_gridworld_sarsa.get_action(tuple(current_state))\n",
    "    terminated = False\n",
    "    total_rewards = 0\n",
    "    # start an episode\n",
    "    while not terminated:\n",
    "        # observe R, S'\n",
    "        next_state, reward, terminated = env.step(current_action)\n",
    "        \n",
    "        transition = rl.Transition(\n",
    "            tuple(current_state),\n",
    "            current_action,\n",
    "            tuple(next_state),\n",
    "            reward\n",
    "        )\n",
    "        \n",
    "        # update q-values\n",
    "        next_action = windy_gridworld_sarsa.update(transition)\n",
    "        \n",
    "        total_rewards += reward\n",
    "        current_state = next_state\n",
    "        current_action = next_action\n",
    "        \n",
    "    rewards_arr.append(total_rewards)\n",
    "    \n",
    "    # test the environment\n",
    "    if episode % 4000 == 0:\n",
    "        test_env(env, windy_gridworld_sarsa)\n",
    "\n",
    "# greedy policy\n",
    "windy_gridworld_sarsa.epsilon = 0\n",
    "test_env(env, windy_gridworld_sarsa)\n",
    "    \n",
    "print(\"total rewards graph\")\n",
    "plt.plot(rl.average_last_data(rewards_arr, data_count=100))\n",
    "plt.axis([0, 8000, -50, 0])\n",
    "plt.show()"
   ]
  }
 ],
 "metadata": {
  "kernelspec": {
   "display_name": "Python 3.7.13 ('rl-algorithm')",
   "language": "python",
   "name": "python3"
  },
  "language_info": {
   "codemirror_mode": {
    "name": "ipython",
    "version": 3
   },
   "file_extension": ".py",
   "mimetype": "text/x-python",
   "name": "python",
   "nbconvert_exporter": "python",
   "pygments_lexer": "ipython3",
   "version": "3.7.13"
  },
  "orig_nbformat": 4,
  "vscode": {
   "interpreter": {
    "hash": "0381d0af411f6bfe45ac40b0d1966757aef498b18b285452598df2aadb4e7a1e"
   }
  }
 },
 "nbformat": 4,
 "nbformat_minor": 2
}
