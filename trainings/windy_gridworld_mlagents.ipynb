{
 "cells": [
  {
   "cell_type": "code",
   "execution_count": null,
   "metadata": {},
   "outputs": [],
   "source": [
    "import sys\n",
    "import os\n",
    "sys.path.append(os.pardir)\n",
    "\n",
    "import rl\n",
    "from mlagents_envs.environment import UnityEnvironment\n",
    "import numpy as np\n",
    "\n",
    "rl.util.seed(0)"
   ]
  },
  {
   "cell_type": "code",
   "execution_count": null,
   "metadata": {},
   "outputs": [],
   "source": [
    "try:\n",
    "    env.close()\n",
    "except:\n",
    "    pass\n",
    "\n",
    "env = UnityEnvironment(file_name=\"../ML-Agents Environments/Windy Gridworld\")\n",
    "env.reset()"
   ]
  },
  {
   "cell_type": "code",
   "execution_count": null,
   "metadata": {},
   "outputs": [],
   "source": [
    "behavior_name = list(env.behavior_specs)[0]\n",
    "print(f\"Name of the behavior: {behavior_name}\")"
   ]
  },
  {
   "cell_type": "code",
   "execution_count": null,
   "metadata": {},
   "outputs": [],
   "source": [
    "spec = env.behavior_specs[behavior_name]\n",
    "\n",
    "print(f\"Number of observation: {len(spec.observation_specs)}\")"
   ]
  },
  {
   "cell_type": "code",
   "execution_count": null,
   "metadata": {},
   "outputs": [],
   "source": [
    "print(f\"There are {spec.action_spec.discrete_size} discrete action branches\")\n",
    "if spec.action_spec.discrete_size > 0:\n",
    "    for i, action_count in enumerate(spec.action_spec.discrete_branches):\n",
    "        print(f\"Branch {i} has {action_count} actions\")"
   ]
  }
 ],
 "metadata": {
  "kernelspec": {
   "display_name": "Python 3.7.13 ('rl-algorithm')",
   "language": "python",
   "name": "python3"
  },
  "language_info": {
   "codemirror_mode": {
    "name": "ipython",
    "version": 3
   },
   "file_extension": ".py",
   "mimetype": "text/x-python",
   "name": "python",
   "nbconvert_exporter": "python",
   "pygments_lexer": "ipython3",
   "version": "3.7.13"
  },
  "orig_nbformat": 4,
  "vscode": {
   "interpreter": {
    "hash": "0381d0af411f6bfe45ac40b0d1966757aef498b18b285452598df2aadb4e7a1e"
   }
  }
 },
 "nbformat": 4,
 "nbformat_minor": 2
}
