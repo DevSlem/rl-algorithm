{
 "cells": [
  {
   "cell_type": "markdown",
   "metadata": {},
   "source": [
    "# Windy Gridworld with ML-Agents\n",
    "\n",
    "Environment: [Reinforcement Learning: An Introduction 2nd Edition - Example 6.5: Windy Gridworld](http://incompleteideas.net/book/bookdraft2017nov5.pdf#page=124)"
   ]
  },
  {
   "cell_type": "markdown",
   "metadata": {},
   "source": [
    "## Environment Settings\n",
    "\n",
    "I developed the environment using ML-Agents Toolkit. Here is the document of the environment:  \n",
    "[DevSlem/unity-ml-agents (Github) - Windy Gridworld](https://github.com/DevSlem/unity-ml-agents/wiki/Windy-Gridworld)\n",
    "\n",
    "Hyperparameters:\n",
    "* $\\epsilon = 0.1$  \n",
    "* $\\alpha = 0.5$  \n",
    "* $\\gamma = 1$  \n",
    "* 8000 episodes\n",
    "\n",
    "Random Seed: 0"
   ]
  },
  {
   "cell_type": "markdown",
   "metadata": {},
   "source": [
    "## Source Codes"
   ]
  },
  {
   "cell_type": "markdown",
   "metadata": {},
   "source": [
    "### Library\n",
    "\n",
    "RL agent:\n",
    "* [Sarsa](../rl/rl_algorithm/sarsa.py)\n",
    "\n",
    "Environment:\n",
    "* [Windy Gridworld](../rl/environment/windy_gridworld.py)"
   ]
  },
  {
   "cell_type": "markdown",
   "metadata": {},
   "source": [
    "### Import basic modules"
   ]
  },
  {
   "cell_type": "code",
   "execution_count": 1,
   "metadata": {},
   "outputs": [],
   "source": [
    "import sys\n",
    "import os\n",
    "sys.path.append(os.pardir)\n",
    "\n",
    "import rl\n",
    "import numpy as np\n",
    "\n",
    "rl.util.seed(0)"
   ]
  },
  {
   "cell_type": "markdown",
   "metadata": {},
   "source": [
    "### Create UnityEnvironment"
   ]
  },
  {
   "cell_type": "code",
   "execution_count": 2,
   "metadata": {},
   "outputs": [],
   "source": [
    "from mlagents_envs.environment import UnityEnvironment\n",
    "from mlagents_envs.side_channel.float_properties_channel import FloatPropertiesChannel\n",
    "\n",
    "try:\n",
    "    env.close()\n",
    "except:\n",
    "    pass\n",
    "\n",
    "channel = FloatPropertiesChannel()\n",
    "env = UnityEnvironment(file_name=\"../ML-Agents Environments/Windy Gridworld\", side_channels=[channel])\n",
    "env.reset()"
   ]
  },
  {
   "cell_type": "markdown",
   "metadata": {},
   "source": [
    "#### Behavior name"
   ]
  },
  {
   "cell_type": "code",
   "execution_count": 3,
   "metadata": {},
   "outputs": [
    {
     "name": "stdout",
     "output_type": "stream",
     "text": [
      "Name of the behavior: WindyGridworld?team=0\n"
     ]
    }
   ],
   "source": [
    "behavior_name = list(env.behavior_specs)[0]\n",
    "print(f\"Name of the behavior: {behavior_name}\")"
   ]
  },
  {
   "cell_type": "markdown",
   "metadata": {},
   "source": [
    "#### Observation/Action space"
   ]
  },
  {
   "cell_type": "code",
   "execution_count": 4,
   "metadata": {},
   "outputs": [
    {
     "name": "stdout",
     "output_type": "stream",
     "text": [
      "observation space size: 2, action count: 4\n"
     ]
    }
   ],
   "source": [
    "spec = env.behavior_specs[behavior_name]\n",
    "action_count = spec.action_spec.discrete_branches[0]\n",
    "\n",
    "print(f\"observation space size: {spec.observation_specs[0].shape[0]}, action count: {action_count}\")"
   ]
  },
  {
   "cell_type": "markdown",
   "metadata": {},
   "source": [
    "#### Start position"
   ]
  },
  {
   "cell_type": "code",
   "execution_count": 5,
   "metadata": {},
   "outputs": [
    {
     "name": "stdout",
     "output_type": "stream",
     "text": [
      "start position: [0. 3.]\n"
     ]
    }
   ],
   "source": [
    "decision_steps, terminal_steps = env.get_steps(behavior_name)\n",
    "print(f\"start position: {decision_steps.obs[0][0,:]}\")"
   ]
  },
  {
   "cell_type": "markdown",
   "metadata": {},
   "source": [
    "### Create Sarsa agent"
   ]
  },
  {
   "cell_type": "code",
   "execution_count": 6,
   "metadata": {},
   "outputs": [],
   "source": [
    "# hyperparameters\n",
    "alpha = 0.5\n",
    "gamma = 1\n",
    "epsilon = 0.1\n",
    "\n",
    "sarsa = rl.Sarsa(\n",
    "    (10, 7),\n",
    "    action_count,\n",
    "    [(7, 3)],\n",
    "    epsilon=epsilon,\n",
    "    alpha=alpha,\n",
    "    gamma=gamma\n",
    ")"
   ]
  },
  {
   "cell_type": "markdown",
   "metadata": {},
   "source": [
    "### Define train function"
   ]
  },
  {
   "cell_type": "code",
   "execution_count": 9,
   "metadata": {},
   "outputs": [],
   "source": [
    "from mlagents_envs.environment import ActionTuple\n",
    "from tqdm import tqdm\n",
    "\n",
    "def train(env: UnityEnvironment, agent: rl.Agent, episodes_count):\n",
    "    behavior_name = list(env.behavior_specs)[0]\n",
    "    rewards_arr = []\n",
    "    \n",
    "    for episode in tqdm(range(episodes_count)):\n",
    "        env.reset()\n",
    "        decision_steps, terminal_steps = env.get_steps(behavior_name)\n",
    "        current_states = decision_steps.obs[0].astype(np.int32)\n",
    "        agent_ids = decision_steps.agent_id\n",
    "        terminated = False\n",
    "        total_rewards = 0\n",
    "        agent.start_episode()\n",
    "        \n",
    "        # start an episode\n",
    "        while not terminated:\n",
    "            # take action a\n",
    "            current_actions = [agent.get_action(current_states[id]) for id in agent_ids]\n",
    "            action_tuple = ActionTuple(discrete=np.array([current_actions]).T)\n",
    "            env.set_actions(behavior_name, action_tuple)\n",
    "            env.step()\n",
    "\n",
    "            decision_steps, terminal_steps = env.get_steps(behavior_name)\n",
    "            # observe r, s'\n",
    "            transitions = []\n",
    "            rewards = []\n",
    "            next_states = np.empty_like(current_states, dtype=np.int32)\n",
    "            # at non-terminal time step\n",
    "            for id in decision_steps:\n",
    "                next_states[id] = decision_steps[id].obs[0].astype(np.int32)\n",
    "                reward = decision_steps[id].reward\n",
    "                transition = rl.Transition(\n",
    "                    current_states[id],\n",
    "                    current_actions[id],\n",
    "                    next_states[id],\n",
    "                    reward\n",
    "                )\n",
    "                transitions.append(transition)\n",
    "                rewards.append(reward)\n",
    "            # at terminal time step\n",
    "            for id in terminal_steps:\n",
    "                next_states[id] = terminal_steps[id].obs[0].astype(np.int32)\n",
    "                reward = terminal_steps[id].reward\n",
    "                transition = rl.Transition(\n",
    "                    current_states[id],\n",
    "                    current_actions[id],\n",
    "                    next_states[id],\n",
    "                    reward\n",
    "                )\n",
    "                transitions.append(transition)\n",
    "                rewards.append(reward)\n",
    "                terminated = True\n",
    "            \n",
    "            # update q-values\n",
    "            for transition in transitions:\n",
    "                agent.update(transition)\n",
    "            \n",
    "            current_states = next_states\n",
    "            total_rewards += np.mean(rewards)\n",
    "            \n",
    "        agent.end_episode()\n",
    "        rewards_arr.append(total_rewards)\n",
    "        \n",
    "    return rewards_arr"
   ]
  },
  {
   "cell_type": "markdown",
   "metadata": {},
   "source": [
    "### Training"
   ]
  },
  {
   "cell_type": "code",
   "execution_count": 10,
   "metadata": {},
   "outputs": [
    {
     "name": "stderr",
     "output_type": "stream",
     "text": [
      "100%|██████████| 1000/1000 [06:48<00:00,  2.45it/s]\n"
     ]
    }
   ],
   "source": [
    "episodes_count = 1000\n",
    "rewards_arr = train(env, sarsa, episodes_count)"
   ]
  },
  {
   "cell_type": "markdown",
   "metadata": {},
   "source": [
    "### Define test function"
   ]
  },
  {
   "cell_type": "code",
   "execution_count": 11,
   "metadata": {},
   "outputs": [],
   "source": [
    "def test(env: UnityEnvironment, agent: rl.Agent, episodes_count, max_timestep):\n",
    "    for episode in tqdm(range(episodes_count)):\n",
    "        env.reset()\n",
    "        decision_steps, terminal_steps = env.get_steps(behavior_name)\n",
    "        agent_id = 0\n",
    "        current_state = decision_steps[agent_id].obs[0].astype(np.int32)\n",
    "        terminated = False\n",
    "        \n",
    "        # start an episode\n",
    "        for t in range(max_timestep):\n",
    "            # take action a\n",
    "            current_action = agent.get_action(current_state)\n",
    "            action_tuple = ActionTuple(discrete=np.array([[current_action]], dtype=np.int32))\n",
    "            env.set_action_for_agent(behavior_name, agent_id, action_tuple)\n",
    "            env.step()\n",
    "\n",
    "            decision_steps, terminal_steps = env.get_steps(behavior_name)\n",
    "            # observe s'\n",
    "            if agent_id in decision_steps:\n",
    "                next_state = decision_steps[agent_id].obs[0].astype(np.int32)\n",
    "            if agent_id in terminal_steps:\n",
    "                next_state = terminal_steps[agent_id].obs[0].astype(np.int32)\n",
    "                terminated = True\n",
    "            \n",
    "            if terminated:\n",
    "                break\n",
    "            \n",
    "            current_state = next_state"
   ]
  },
  {
   "cell_type": "markdown",
   "metadata": {},
   "source": [
    "### Test"
   ]
  },
  {
   "cell_type": "code",
   "execution_count": 12,
   "metadata": {},
   "outputs": [
    {
     "name": "stderr",
     "output_type": "stream",
     "text": [
      "100%|██████████| 10/10 [01:03<00:00,  6.39s/it]\n"
     ]
    }
   ],
   "source": [
    "channel.set_property(\"fixedupdate_per_step_when_training\", 20) # for rendering\n",
    "sarsa.epsilon = 0\n",
    "test(env, sarsa, 10, 200)"
   ]
  },
  {
   "cell_type": "markdown",
   "metadata": {},
   "source": [
    "### Close the environment"
   ]
  },
  {
   "cell_type": "code",
   "execution_count": 13,
   "metadata": {},
   "outputs": [],
   "source": [
    "env.close()"
   ]
  },
  {
   "cell_type": "markdown",
   "metadata": {},
   "source": [
    "### Print training results"
   ]
  },
  {
   "cell_type": "code",
   "execution_count": 14,
   "metadata": {},
   "outputs": [
    {
     "name": "stdout",
     "output_type": "stream",
     "text": [
      "average rewards of last 100 rewards\n"
     ]
    },
    {
     "data": {
      "image/png": "[encoded data removed]",
      "text/plain": [
       "<Figure size 432x288 with 1 Axes>"
      ]
     },
     "metadata": {
      "needs_background": "light"
     },
     "output_type": "display_data"
    }
   ],
   "source": [
    "import matplotlib.pyplot as plt\n",
    "\n",
    "print(\"average rewards of last 100 rewards\")\n",
    "plt.plot(rl.util.average_last_data(rewards_arr, data_count=50))\n",
    "plt.grid()\n",
    "plt.axis([0, episodes_count, -50, 0])\n",
    "plt.show()"
   ]
  }
 ],
 "metadata": {
  "kernelspec": {
   "display_name": "Python 3.7.13 ('rl-algorithm')",
   "language": "python",
   "name": "python3"
  },
  "language_info": {
   "codemirror_mode": {
    "name": "ipython",
    "version": 3
   },
   "file_extension": ".py",
   "mimetype": "text/x-python",
   "name": "python",
   "nbconvert_exporter": "python",
   "pygments_lexer": "ipython3",
   "version": "3.7.13"
  },
  "orig_nbformat": 4,
  "vscode": {
   "interpreter": {
    "hash": "0381d0af411f6bfe45ac40b0d1966757aef498b18b285452598df2aadb4e7a1e"
   }
  }
 },
 "nbformat": 4,
 "nbformat_minor": 2
}
